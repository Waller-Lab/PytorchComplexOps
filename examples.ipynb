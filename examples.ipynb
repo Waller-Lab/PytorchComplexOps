{
 "cells": [
  {
   "cell_type": "markdown",
   "metadata": {},
   "source": [
    "# Import Modules"
   ]
  },
  {
   "cell_type": "code",
   "execution_count": 1,
   "metadata": {},
   "outputs": [],
   "source": [
    "import torch\n",
    "from pytorch_complex_ops import *"
   ]
  },
  {
   "cell_type": "markdown",
   "metadata": {},
   "source": [
    "# Define Complex Operators"
   ]
  },
  {
   "cell_type": "code",
   "execution_count": 2,
   "metadata": {},
   "outputs": [],
   "source": [
    "mul_c  = ComplexMul.apply\n",
    "div_c  = ComplexDiv.apply\n",
    "exp_c  = ComplexExp.apply\n",
    "abs_c  = ComplexAbs.apply"
   ]
  },
  {
   "cell_type": "markdown",
   "metadata": {},
   "source": [
    "# Create Complex Tensors"
   ]
  },
  {
   "cell_type": "code",
   "execution_count": 3,
   "metadata": {},
   "outputs": [],
   "source": [
    "def printTensor(tensor):\n",
    "    for m in range(tensor.shape[0]):\n",
    "        string = '['\n",
    "        for n in range(tensor.shape[1]):\n",
    "            if len(tensor.shape)==3:\n",
    "                if tensor[m, n, 1]>=0:\n",
    "                    string += ' {:.3f}+{:.3f}i '.format(tensor[m, n, 0], tensor[m, n, 1])\n",
    "                else:\n",
    "                    string += ' {:.3f}{:.3f}i '.format(tensor[m, n, 0], tensor[m, n, 1])\n",
    "            else:\n",
    "                string += ' {:.3f}+0.000i '.format(tensor[m, n])\n",
    "        print(string+']')"
   ]
  },
  {
   "cell_type": "code",
   "execution_count": 4,
   "metadata": {},
   "outputs": [
    {
     "name": "stdout",
     "output_type": "stream",
     "text": [
      "Tensor A: \n",
      "[ 0.000+1.000i  1.000+1.000i ]\n",
      "[ 1.000+1.000i  0.000+1.000i ]\n",
      "Tensor B: \n",
      "[ 1.000+0.000i  1.000+1.000i ]\n",
      "[ 1.000+1.000i  1.000+0.000i ]\n"
     ]
    }
   ],
   "source": [
    "tensor_a_real      = torch.tensor([[0, 1], [1, 0]], dtype=torch.float32)\n",
    "tensor_a_imaginary = torch.tensor([[1, 1], [1, 1]], dtype=torch.float32)\n",
    "tensor_a_complex   = torch.stack((tensor_a_real, tensor_a_imaginary), dim=2)\n",
    "print(\"Tensor A: \")\n",
    "printTensor(tensor_a_complex)\n",
    "\n",
    "tensor_b_real      = torch.tensor([[1, 1], [1, 1]], dtype=torch.float32, requires_grad=True)\n",
    "tensor_b_imaginary = torch.tensor([[0, 1], [1, 0]], dtype=torch.float32, requires_grad=True)\n",
    "tensor_b_complex   = torch.stack((tensor_b_real, tensor_b_imaginary), dim=2)\n",
    "tensor_b_complex.retain_grad()\n",
    "print(\"Tensor B: \")\n",
    "printTensor(tensor_b_complex)\n"
   ]
  },
  {
   "cell_type": "markdown",
   "metadata": {},
   "source": [
    "# Test"
   ]
  },
  {
   "cell_type": "markdown",
   "metadata": {},
   "source": [
    "### Multiplication"
   ]
  },
  {
   "cell_type": "code",
   "execution_count": 5,
   "metadata": {},
   "outputs": [
    {
     "name": "stdout",
     "output_type": "stream",
     "text": [
      "Element-wise Multiplication C=A*B:\n",
      "[ 0.000+1.000i  0.000+2.000i ]\n",
      "[ 0.000+2.000i  0.000+1.000i ]\n",
      "Grad Tensor B:\n",
      "[ 1.000-1.000i  2.000+0.000i ]\n",
      "[ 2.000+0.000i  1.000-1.000i ]\n"
     ]
    }
   ],
   "source": [
    "tensor_c = mul_c(tensor_a_complex, tensor_b_complex)\n",
    "print(\"Element-wise Multiplication C=A*B:\")\n",
    "printTensor(tensor_c)\n",
    "\n",
    "# compute gradient of sum(A*B) with respect to B\n",
    "tensor_c.sum().backward()\n",
    "print(\"Grad Tensor B:\")\n",
    "printTensor(tensor_b_complex.grad)"
   ]
  },
  {
   "cell_type": "markdown",
   "metadata": {},
   "source": [
    "### Division"
   ]
  },
  {
   "cell_type": "code",
   "execution_count": 6,
   "metadata": {
    "scrolled": true
   },
   "outputs": [
    {
     "name": "stdout",
     "output_type": "stream",
     "text": [
      "Element-wise Division C=A/B:\n",
      "[ 0.000+1.000i  1.000+0.000i ]\n",
      "[ 1.000+0.000i  0.000+1.000i ]\n",
      "Grad Tensor B:\n",
      "[ 0.000+0.000i  2.000-1.000i ]\n",
      "[ 2.000-1.000i  0.000+0.000i ]\n"
     ]
    }
   ],
   "source": [
    "tensor_c = div_c(tensor_a_complex, tensor_b_complex)\n",
    "print(\"Element-wise Division C=A/B:\")\n",
    "printTensor(tensor_c)\n",
    "\n",
    "# compute gradient of sum(A/B) with respect to B\n",
    "tensor_c.sum().backward()\n",
    "print(\"Grad Tensor B:\")\n",
    "printTensor(tensor_b_complex.grad)"
   ]
  },
  {
   "cell_type": "markdown",
   "metadata": {},
   "source": [
    "### Exponential"
   ]
  },
  {
   "cell_type": "code",
   "execution_count": 7,
   "metadata": {},
   "outputs": [
    {
     "name": "stdout",
     "output_type": "stream",
     "text": [
      "Element-wise Complex Exponential C=exp(B):\n",
      "[ 2.718+0.000i  1.469+2.287i ]\n",
      "[ 1.469+2.287i  2.718+0.000i ]\n",
      "Grad Tensor B:\n",
      "[ 2.718+2.718i  5.756-1.819i ]\n",
      "[ 5.756-1.819i  2.718+2.718i ]\n"
     ]
    }
   ],
   "source": [
    "tensor_c = exp_c(tensor_b_complex)\n",
    "print(\"Element-wise Complex Exponential C=exp(B):\")\n",
    "printTensor(tensor_c)\n",
    "\n",
    "# compute gradient of sum(exp(A)) with respect to B\n",
    "tensor_c.sum().backward()\n",
    "print(\"Grad Tensor B:\")\n",
    "printTensor(tensor_b_complex.grad)"
   ]
  },
  {
   "cell_type": "markdown",
   "metadata": {},
   "source": [
    "### AbsoluteValue"
   ]
  },
  {
   "cell_type": "code",
   "execution_count": 8,
   "metadata": {},
   "outputs": [
    {
     "name": "stdout",
     "output_type": "stream",
     "text": [
      "Element-wise Complex Exponential C=abs(B):\n",
      "[ 1.000+0.000i  1.414+0.000i ]\n",
      "[ 1.414+0.000i  1.000+0.000i ]\n",
      "Grad Tensor B:\n",
      "[ 3.218+2.718i  6.110-1.465i ]\n",
      "[ 6.110-1.465i  3.218+2.718i ]\n"
     ]
    }
   ],
   "source": [
    "tensor_c = abs_c(tensor_b_complex)\n",
    "print(\"Element-wise Complex Exponential C=abs(B):\")\n",
    "printTensor(tensor_c)\n",
    "\n",
    "# compute gradient of sum(abs(A)) with respect to B\n",
    "tensor_c.sum().backward()\n",
    "print(\"Grad Tensor B:\")\n",
    "printTensor(tensor_b_complex.grad)"
   ]
  }
 ],
 "metadata": {
  "kernelspec": {
   "display_name": "Python 3",
   "language": "python",
   "name": "python3"
  },
  "language_info": {
   "codemirror_mode": {
    "name": "ipython",
    "version": 3
   },
   "file_extension": ".py",
   "mimetype": "text/x-python",
   "name": "python",
   "nbconvert_exporter": "python",
   "pygments_lexer": "ipython3",
   "version": "3.6.4"
  }
 },
 "nbformat": 4,
 "nbformat_minor": 2
}
